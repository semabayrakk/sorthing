{
 "cells": [
  {
   "cell_type": "markdown",
   "id": "8935bd88-eb4c-42cd-9922-564430109ed5",
   "metadata": {},
   "source": [
    "# SIRALAMA ALGORİTMALARI ÖRNEKLER"
   ]
  },
  {
   "cell_type": "code",
   "execution_count": 130,
   "id": "7dcccb53-f753-4abe-a484-8325dee981fe",
   "metadata": {},
   "outputs": [],
   "source": [
    "import pandas as pd ; import numpy as np "
   ]
  },
  {
   "cell_type": "code",
   "execution_count": 131,
   "id": "54293f3b-7ee5-40c5-bb58-9810867dff86",
   "metadata": {},
   "outputs": [],
   "source": [
    "import random"
   ]
  },
  {
   "cell_type": "code",
   "execution_count": 132,
   "id": "5ec07fcb",
   "metadata": {},
   "outputs": [],
   "source": [
    "import sorting"
   ]
  },
  {
   "cell_type": "code",
   "execution_count": 133,
   "id": "c01266f3",
   "metadata": {},
   "outputs": [],
   "source": [
    "veri=[random.randint(1,100) for _ in range(20)]"
   ]
  },
  {
   "cell_type": "code",
   "execution_count": 134,
   "id": "e81a14ce-7278-433f-8582-b810767b2ef9",
   "metadata": {},
   "outputs": [
    {
     "name": "stdout",
     "output_type": "stream",
     "text": [
      "Orijinal veri seti:\n",
      "[89, 36, 96, 16, 57, 43, 46, 48, 12, 64, 23, 71, 27, 89, 32, 53, 18, 70, 100, 2]\n"
     ]
    }
   ],
   "source": [
    "print(\"Orijinal veri seti:\")\n",
    "print(veri)"
   ]
  },
  {
   "cell_type": "markdown",
   "id": "cdb3f5dc-ea00-460c-a153-6ddead5181c6",
   "metadata": {},
   "source": [
    "## bubble sort"
   ]
  },
  {
   "cell_type": "code",
   "execution_count": 135,
   "id": "4482deaf-1a10-40f9-9c2c-9e1b519b972e",
   "metadata": {},
   "outputs": [
    {
     "name": "stdout",
     "output_type": "stream",
     "text": [
      "\n",
      "Bubble Sort:\n",
      "[2, 12, 16, 18, 23, 27, 32, 36, 43, 46, 48, 53, 57, 64, 70, 71, 89, 89, 96, 100]\n"
     ]
    }
   ],
   "source": [
    "bubble_sorted = veri.copy()\n",
    "sorting.bubble(bubble_sorted)\n",
    "print(\"\\nBubble Sort:\")\n",
    "print(bubble_sorted)"
   ]
  },
  {
   "cell_type": "markdown",
   "id": "37529c5c-cb71-42bb-8a5d-64f5b310e077",
   "metadata": {},
   "source": [
    "## Selection Sort"
   ]
  },
  {
   "cell_type": "code",
   "execution_count": 136,
   "id": "8f250a4b-7327-4fc5-82fc-ff97059cfb75",
   "metadata": {},
   "outputs": [
    {
     "name": "stdout",
     "output_type": "stream",
     "text": [
      "\n",
      " Seçmeli Sıralama: \n",
      "[2, 12, 16, 18, 23, 27, 32, 36, 43, 46, 48, 53, 57, 64, 70, 71, 89, 89, 96, 100]\n"
     ]
    }
   ],
   "source": [
    "selection_sorted=veri.copy()\n",
    "sorting.selection(selection_sorted)\n",
    "print(\"\\n Seçmeli Sıralama: \")\n",
    "print(selection_sorted)"
   ]
  },
  {
   "cell_type": "markdown",
   "id": "e2a0d423",
   "metadata": {},
   "source": [
    "# Insertion Sort"
   ]
  },
  {
   "cell_type": "code",
   "execution_count": 137,
   "id": "2fa1db8d",
   "metadata": {},
   "outputs": [
    {
     "name": "stdout",
     "output_type": "stream",
     "text": [
      "[2, 12, 16, 18, 23, 27, 32, 36, 43, 46, 48, 53, 57, 64, 70, 71, 89, 89, 96, 100]\n"
     ]
    }
   ],
   "source": [
    "sıralanacak_veri=veri.copy()\n",
    "\n",
    "def insertion_sort(sıralanacak_veri):\n",
    "    sıralı=[]\n",
    "    sıralanacak_veri=veri.copy()\n",
    "    \n",
    "    while sıralanacak_veri:\n",
    "        eleman=sıralanacak_veri[0]\n",
    "        \n",
    "        index=0\n",
    "        \n",
    "        while index<len(sıralı) and eleman>sıralı[index]:\n",
    "            index+=1\n",
    "        \n",
    "        sıralı.insert(index,eleman)\n",
    "        sıralanacak_veri.pop(0)\n",
    "    \n",
    "    return sıralı\n",
    "\n",
    "sıralı=insertion_sort(sıralanacak_veri)\n",
    "\n",
    "print(sıralı)"
   ]
  },
  {
   "cell_type": "markdown",
   "id": "7d133f1c",
   "metadata": {},
   "source": [
    "# Quick Sort"
   ]
  },
  {
   "cell_type": "code",
   "execution_count": 138,
   "id": "ed747dfa",
   "metadata": {},
   "outputs": [
    {
     "name": "stdout",
     "output_type": "stream",
     "text": [
      "Sıralanmış Veri: [2, 12, 16, 18, 23, 27, 32, 36, 43, 46, 48, 53, 57, 64, 70, 71, 89, 89, 96, 100]\n"
     ]
    }
   ],
   "source": [
    "sıralanacak_veri=veri.copy()\n",
    "\n",
    "def quick_sort(sıralanacak_veri):\n",
    "    if len(sıralanacak_veri) <= 1:\n",
    "        return sıralanacak_veri\n",
    "\n",
    "    pivot = sıralanacak_veri[0]  #ilk eleman pivot eleman seçildi\n",
    "    \n",
    "    #pivottan büyük değerleri ve küçük değerleri tutmak için iki tane boş liste oluşuturuldu\n",
    "    pivottan_kucuk = []\n",
    "    pivottan_buyuk = []\n",
    "\n",
    "    for eleman in sıralanacak_veri[1:]: #veri setindeki ilk veri pivot olarak seçildiği için verinin 2. elemanından\n",
    "                                        #başlayarak tüm elemanları dolaşacak bir döngü oluşturuldu\n",
    "        if eleman <= pivot: #eleman pivot elemandan küçük ve eşitse ilgili diziye ekle değilse ilgili liseteye ekle\n",
    "            pivottan_kucuk.append(eleman)\n",
    "        else:\n",
    "            pivottan_buyuk.append(eleman)\n",
    "\n",
    "    #aynı işemi pivottan küçük ve büyük elemanları içeren listler için yinele \n",
    "    siralanmis_kucukler = quick_sort(pivottan_kucuk)\n",
    "    siralanmis_buyukler = quick_sort(pivottan_buyuk)\n",
    "\n",
    "    # sıralanmış listeleri birleştir\n",
    "    return siralanmis_kucukler + [pivot] + siralanmis_buyukler\n",
    "\n",
    "\n",
    "siralanmis_veri = quick_sort(sıralanacak_veri)\n",
    "\n",
    "print(\"Sıralanmış Veri:\", siralanmis_veri)"
   ]
  },
  {
   "cell_type": "markdown",
   "id": "15e9674e",
   "metadata": {},
   "source": [
    "# Merge Sort"
   ]
  },
  {
   "cell_type": "code",
   "execution_count": 139,
   "id": "03f96219",
   "metadata": {},
   "outputs": [
    {
     "name": "stdout",
     "output_type": "stream",
     "text": [
      "ilk yarı [89, 36, 96, 16, 57, 43, 46, 48, 12, 64]\n",
      "ikinci yarı [23, 71, 27, 89, 32, 53, 18, 70, 100, 2]\n",
      "sıralanmış ilk yarı [12, 16, 36, 43, 46, 48, 57, 64, 89, 96]\n",
      "sıralanmış ikinci yarı [2, 18, 23, 27, 32, 53, 70, 71, 89, 100]\n"
     ]
    }
   ],
   "source": [
    "def veriyi_ikiye_ayır(sıralanacak_veri):\n",
    "    orta_nokta=len(sıralanacak_veri)//2\n",
    "    ilk_yarı=sıralanacak_veri[:orta_nokta]\n",
    "    ikinci_yarı=sıralanacak_veri[orta_nokta:]\n",
    "    \n",
    "    return ilk_yarı,ikinci_yarı\n",
    "\n",
    "\n",
    "\n",
    "def veriyi_sıralama(veri):\n",
    "    for i in range(len(veri)):\n",
    "        min=i\n",
    "        \n",
    "        for j in range(i+1, len(veri)):\n",
    "            if veri[j] < veri[min]:\n",
    "                min = j\n",
    "        \n",
    "        veri[i], veri[min] = veri[min], veri[i]\n",
    "        \n",
    "    return veri\n",
    "\n",
    "sıralanacak_veri=veri.copy()\n",
    "\n",
    "ilk_yarı,ikinci_yarı=veriyi_ikiye_ayır(sıralanacak_veri)\n",
    "\n",
    "print(\"ilk yarı\",ilk_yarı)\n",
    "print(\"ikinci yarı\",ikinci_yarı)\n",
    "\n",
    "sıralanmış_ilk_yarı=veriyi_sıralama(ilk_yarı)\n",
    "sıralanmış_ikinci_yarı=veriyi_sıralama(ikinci_yarı)\n",
    "\n",
    "print(\"sıralanmış ilk yarı\",sıralanmış_ilk_yarı)\n",
    "print(\"sıralanmış ikinci yarı\",sıralanmış_ikinci_yarı)\n"
   ]
  },
  {
   "cell_type": "markdown",
   "id": "4b28d414",
   "metadata": {},
   "source": [
    "# Heap Sort"
   ]
  },
  {
   "cell_type": "code",
   "execution_count": null,
   "id": "9b382739",
   "metadata": {},
   "outputs": [],
   "source": []
  },
  {
   "cell_type": "markdown",
   "id": "d1aa0291",
   "metadata": {},
   "source": [
    "# Counting Sort\n"
   ]
  },
  {
   "cell_type": "code",
   "execution_count": 142,
   "id": "4f08ca12",
   "metadata": {},
   "outputs": [
    {
     "name": "stdout",
     "output_type": "stream",
     "text": [
      "Sıralanmış Dizi: [2, 12, 16, 18, 23, 27, 32, 36, 43, 46, 48, 53, 57, 64, 70, 71, 89, 89, 96, 100]\n"
     ]
    }
   ],
   "source": [
    "def counting_sort(sıralanacak_veri, counting_sorted, k):\n",
    "    \n",
    "    # B: Sıralanmış dizi (sonuç)\n",
    "    # k: Dizideki maksimum değeri temsil eden sınır\n",
    "\n",
    "    C = [0] * k  # Sayma dizisi oluşturuluyor (her elemanın sıklığını tutar)\n",
    "    n = len(sıralanacak_veri)   # Dizi uzunluğunu al\n",
    "\n",
    "    # Her elemanın sıklığını say\n",
    "    for i in range(n):\n",
    "        C[sıralanacak_veri[i]] += 1\n",
    "\n",
    "    # Kumulatif toplamları hesapla\n",
    "    for i in range(1, k):\n",
    "        C[i] += C[i - 1]\n",
    "\n",
    "    # Sıralanmış diziyi oluştur\n",
    "    for j in range(n - 1, -1, -1):\n",
    "        counting_sorted[C[sıralanacak_veri[j]] - 1] = sıralanacak_veri[j]\n",
    "        C[sıralanacak_veri[j]] -= 1\n",
    "\n",
    "sıralanacak_veri =veri.copy()\n",
    "k = max(sıralanacak_veri) + 1  # k değeri dizideki en büyük elemandan bir fazla olmalı\n",
    "counting_sorted = [0] * len(sıralanacak_veri)\n",
    "\n",
    "counting_sort(sıralanacak_veri, counting_sorted, k)\n",
    "print(\"Sıralanmış Dizi:\",counting_sorted)"
   ]
  },
  {
   "cell_type": "code",
   "execution_count": null,
   "id": "9c49971b",
   "metadata": {},
   "outputs": [],
   "source": []
  },
  {
   "cell_type": "code",
   "execution_count": null,
   "id": "b9f31719",
   "metadata": {},
   "outputs": [],
   "source": []
  }
 ],
 "metadata": {
  "kernelspec": {
   "display_name": "Python 3 (ipykernel)",
   "language": "python",
   "name": "python3"
  },
  "language_info": {
   "codemirror_mode": {
    "name": "ipython",
    "version": 3
   },
   "file_extension": ".py",
   "mimetype": "text/x-python",
   "name": "python",
   "nbconvert_exporter": "python",
   "pygments_lexer": "ipython3",
   "version": "3.11.3"
  }
 },
 "nbformat": 4,
 "nbformat_minor": 5
}
